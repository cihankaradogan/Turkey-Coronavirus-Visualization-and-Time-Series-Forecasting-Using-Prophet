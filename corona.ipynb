{
  "nbformat": 4,
  "nbformat_minor": 0,
  "metadata": {
    "colab": {
      "name": "corona.ipynb",
      "provenance": [],
      "collapsed_sections": [],
      "mount_file_id": "12ZItXOFdjs7KZOBe_impwu2hyDEpbDNM",
      "authorship_tag": "ABX9TyOaTfgvkvaLKdc8ag1zYSA4",
      "include_colab_link": true
    },
    "kernelspec": {
      "name": "python3",
      "display_name": "Python 3"
    },
    "accelerator": "GPU"
  },
  "cells": [
    {
      "cell_type": "markdown",
      "metadata": {
        "id": "view-in-github",
        "colab_type": "text"
      },
      "source": [
        "<a href=\"https://colab.research.google.com/github/cihankaradogan/Turkey-Coronavirus-Visualization-and-Time-Series-Forecasting-Using-Prophet/blob/master/corona.ipynb\" target=\"_parent\"><img src=\"https://colab.research.google.com/assets/colab-badge.svg\" alt=\"Open In Colab\"/></a>"
      ]
    },
    {
      "cell_type": "markdown",
      "metadata": {
        "id": "mLUM8y23IKjJ",
        "colab_type": "text"
      },
      "source": [
        "# Importing Necessary Libraries"
      ]
    },
    {
      "cell_type": "code",
      "metadata": {
        "id": "8KiYQHQSLLTi",
        "colab_type": "code",
        "colab": {}
      },
      "source": [
        "import numpy as np\n",
        "import pandas as pd\n",
        "import seaborn as sns \n",
        "import matplotlib.pyplot as plt\n",
        "import warnings\n",
        "warnings.filterwarnings(\"ignore\")\n",
        "import fbprophet # Necessary for forecasting."
      ],
      "execution_count": 296,
      "outputs": []
    },
    {
      "cell_type": "markdown",
      "metadata": {
        "id": "9F2OrI_9RpPB",
        "colab_type": "text"
      },
      "source": [
        "# Reading Dataset and Adding Some Necessary Columns"
      ]
    },
    {
      "cell_type": "code",
      "metadata": {
        "id": "qMsji0rwOUgl",
        "colab_type": "code",
        "colab": {
          "base_uri": "https://localhost:8080/",
          "height": 282
        },
        "outputId": "21c5729d-c886-45c3-f6f3-2ff5de42de07"
      },
      "source": [
        "df = pd.read_csv('/content/drive/My Drive/tr/Covid19-Turkey.csv')"
      ],
      "execution_count": 297,
      "outputs": [
        {
          "output_type": "execute_result",
          "data": {
            "text/html": [
              "<div>\n",
              "<style scoped>\n",
              "    .dataframe tbody tr th:only-of-type {\n",
              "        vertical-align: middle;\n",
              "    }\n",
              "\n",
              "    .dataframe tbody tr th {\n",
              "        vertical-align: top;\n",
              "    }\n",
              "\n",
              "    .dataframe thead th {\n",
              "        text-align: right;\n",
              "    }\n",
              "</style>\n",
              "<table border=\"1\" class=\"dataframe\">\n",
              "  <thead>\n",
              "    <tr style=\"text-align: right;\">\n",
              "      <th></th>\n",
              "      <th>Date</th>\n",
              "      <th>Daily Cases</th>\n",
              "      <th>Total Cases</th>\n",
              "      <th>Total Deaths</th>\n",
              "      <th>Total Recovered</th>\n",
              "      <th>Active Cases</th>\n",
              "      <th>Daily Test Cases</th>\n",
              "      <th>Total Intensive Care</th>\n",
              "      <th>Intubated Cases</th>\n",
              "      <th>Case incrase rate %</th>\n",
              "      <th>Daily(Cases/Test) %</th>\n",
              "      <th>(Recovered / Active Cases) %</th>\n",
              "      <th>(Death / Active Cases) %</th>\n",
              "      <th>(Active Cases / Population) %</th>\n",
              "      <th>Number Of Days</th>\n",
              "    </tr>\n",
              "  </thead>\n",
              "  <tbody>\n",
              "    <tr>\n",
              "      <th>0</th>\n",
              "      <td>3/11/2020</td>\n",
              "      <td>1</td>\n",
              "      <td>1</td>\n",
              "      <td>0</td>\n",
              "      <td>0</td>\n",
              "      <td>1</td>\n",
              "      <td>NaN</td>\n",
              "      <td>NaN</td>\n",
              "      <td>NaN</td>\n",
              "      <td>0.0</td>\n",
              "      <td>NaN</td>\n",
              "      <td>0.0</td>\n",
              "      <td>0.0</td>\n",
              "      <td>0.000001</td>\n",
              "      <td>1</td>\n",
              "    </tr>\n",
              "    <tr>\n",
              "      <th>1</th>\n",
              "      <td>3/12/2020</td>\n",
              "      <td>0</td>\n",
              "      <td>1</td>\n",
              "      <td>0</td>\n",
              "      <td>0</td>\n",
              "      <td>1</td>\n",
              "      <td>NaN</td>\n",
              "      <td>NaN</td>\n",
              "      <td>NaN</td>\n",
              "      <td>0.0</td>\n",
              "      <td>NaN</td>\n",
              "      <td>0.0</td>\n",
              "      <td>0.0</td>\n",
              "      <td>0.000001</td>\n",
              "      <td>2</td>\n",
              "    </tr>\n",
              "    <tr>\n",
              "      <th>2</th>\n",
              "      <td>3/13/2020</td>\n",
              "      <td>4</td>\n",
              "      <td>5</td>\n",
              "      <td>0</td>\n",
              "      <td>0</td>\n",
              "      <td>5</td>\n",
              "      <td>NaN</td>\n",
              "      <td>NaN</td>\n",
              "      <td>NaN</td>\n",
              "      <td>400.0</td>\n",
              "      <td>NaN</td>\n",
              "      <td>0.0</td>\n",
              "      <td>0.0</td>\n",
              "      <td>0.000006</td>\n",
              "      <td>3</td>\n",
              "    </tr>\n",
              "    <tr>\n",
              "      <th>3</th>\n",
              "      <td>3/14/2020</td>\n",
              "      <td>1</td>\n",
              "      <td>6</td>\n",
              "      <td>0</td>\n",
              "      <td>0</td>\n",
              "      <td>6</td>\n",
              "      <td>NaN</td>\n",
              "      <td>NaN</td>\n",
              "      <td>NaN</td>\n",
              "      <td>20.0</td>\n",
              "      <td>NaN</td>\n",
              "      <td>0.0</td>\n",
              "      <td>0.0</td>\n",
              "      <td>0.000007</td>\n",
              "      <td>4</td>\n",
              "    </tr>\n",
              "    <tr>\n",
              "      <th>4</th>\n",
              "      <td>3/15/2020</td>\n",
              "      <td>12</td>\n",
              "      <td>18</td>\n",
              "      <td>0</td>\n",
              "      <td>0</td>\n",
              "      <td>18</td>\n",
              "      <td>NaN</td>\n",
              "      <td>NaN</td>\n",
              "      <td>NaN</td>\n",
              "      <td>200.0</td>\n",
              "      <td>NaN</td>\n",
              "      <td>0.0</td>\n",
              "      <td>0.0</td>\n",
              "      <td>0.000021</td>\n",
              "      <td>5</td>\n",
              "    </tr>\n",
              "  </tbody>\n",
              "</table>\n",
              "</div>"
            ],
            "text/plain": [
              "        Date  Daily Cases  ...  (Active Cases / Population) %  Number Of Days\n",
              "0  3/11/2020            1  ...                       0.000001               1\n",
              "1  3/12/2020            0  ...                       0.000001               2\n",
              "2  3/13/2020            4  ...                       0.000006               3\n",
              "3  3/14/2020            1  ...                       0.000007               4\n",
              "4  3/15/2020           12  ...                       0.000021               5\n",
              "\n",
              "[5 rows x 15 columns]"
            ]
          },
          "metadata": {
            "tags": []
          },
          "execution_count": 297
        }
      ]
    },
    {
      "cell_type": "code",
      "metadata": {
        "id": "JnpzhFAtUYpX",
        "colab_type": "code",
        "colab": {}
      },
      "source": [
        "#Adding number of days column.\n",
        "number_of_days = pd.DataFrame(np.arange(1,len(df.Date)+1,1))\n",
        "a = {\"Number Of Days\": number_of_days.values}\n",
        "df = df.assign(**a)\n",
        "df.head()"
      ],
      "execution_count": null,
      "outputs": []
    },
    {
      "cell_type": "code",
      "metadata": {
        "id": "9fPYwBTtPiE3",
        "colab_type": "code",
        "colab": {}
      },
      "source": [
        "#Adding daily deaths column.\n",
        "yesterday_deaths = 0\n",
        "Daily_deaths = []\n",
        "for current_deaths in df['Total Deaths']:\n",
        "    if current_deaths>yesterday_deaths:\n",
        "        Daily_deaths.append(current_deaths-yesterday_deaths)\n",
        "    else :\n",
        "        Daily_deaths.append(0)\n",
        "    yesterday_deaths = current_deaths\n",
        "Daily_deaths=pd.DataFrame(Daily_deaths)\n",
        "df['Daily Deaths'] = Daily_deaths"
      ],
      "execution_count": 301,
      "outputs": []
    },
    {
      "cell_type": "code",
      "metadata": {
        "id": "MrQu-EdWXsvO",
        "colab_type": "code",
        "colab": {}
      },
      "source": [
        "#Adding daily recovered column.\n",
        "yesterday_recovered = 0\n",
        "Daily_recovered = []\n",
        "for current_recovered in df['Total Recovered']:\n",
        "    if current_recovered>yesterday_recovered:\n",
        "        Daily_recovered.append(current_recovered-yesterday_recovered)\n",
        "    else :\n",
        "        Daily_recovered.append(0)\n",
        "    yesterday_recovered = current_recovered\n",
        "Daily_recovered=pd.DataFrame(Daily_recovered)\n",
        "df['Daily Recovered'] = Daily_recovered"
      ],
      "execution_count": 304,
      "outputs": []
    },
    {
      "cell_type": "markdown",
      "metadata": {
        "id": "82LqMYMkSPnR",
        "colab_type": "text"
      },
      "source": [
        "# Visualization"
      ]
    },
    {
      "cell_type": "markdown",
      "metadata": {
        "id": "AXqyg5FFSVY6",
        "colab_type": "text"
      },
      "source": [
        "**Total Cases by Days**"
      ]
    },
    {
      "cell_type": "code",
      "metadata": {
        "id": "SyNVuXPROcoP",
        "colab_type": "code",
        "colab": {
          "base_uri": "https://localhost:8080/",
          "height": 296
        },
        "outputId": "f1f38adb-be0b-496d-e6da-1969bd72b092"
      },
      "source": [
        "sns.lineplot(x=\"Number Of Days\", y=\"Total Cases\", data = df)"
      ],
      "execution_count": 298,
      "outputs": [
        {
          "output_type": "execute_result",
          "data": {
            "text/plain": [
              "<matplotlib.axes._subplots.AxesSubplot at 0x7f8e91268fd0>"
            ]
          },
          "metadata": {
            "tags": []
          },
          "execution_count": 298
        },
        {
          "output_type": "display_data",
          "data": {
            "image/png": "[encoded data removed]",
            "text/plain": [
              "<Figure size 432x288 with 1 Axes>"
            ]
          },
          "metadata": {
            "tags": [],
            "needs_background": "light"
          }
        }
      ]
    },
    {
      "cell_type": "markdown",
      "metadata": {
        "id": "lSk3NFRISjKV",
        "colab_type": "text"
      },
      "source": [
        "**Daily Cases by Days**"
      ]
    },
    {
      "cell_type": "code",
      "metadata": {
        "id": "unTsXkicUuqk",
        "colab_type": "code",
        "colab": {
          "base_uri": "https://localhost:8080/",
          "height": 296
        },
        "outputId": "a7799a15-1222-454c-9c56-ad87f70d41d9"
      },
      "source": [
        "sns.lineplot(x=\"Number Of Days\", y=\"Daily Cases\", data = df)"
      ],
      "execution_count": 299,
      "outputs": [
        {
          "output_type": "execute_result",
          "data": {
            "text/plain": [
              "<matplotlib.axes._subplots.AxesSubplot at 0x7f8e918fb6d8>"
            ]
          },
          "metadata": {
            "tags": []
          },
          "execution_count": 299
        },
        {
          "output_type": "display_data",
          "data": {
            "image/png": "[encoded data removed]",
            "text/plain": [
              "<Figure size 432x288 with 1 Axes>"
            ]
          },
          "metadata": {
            "tags": [],
            "needs_background": "light"
          }
        }
      ]
    },
    {
      "cell_type": "markdown",
      "metadata": {
        "id": "JCwCfpHMSuAM",
        "colab_type": "text"
      },
      "source": [
        "**Total Deaths by Days**"
      ]
    },
    {
      "cell_type": "code",
      "metadata": {
        "id": "9C-WIXaiOt-l",
        "colab_type": "code",
        "colab": {
          "base_uri": "https://localhost:8080/",
          "height": 296
        },
        "outputId": "dd6b9e28-b344-4c5a-b5b4-27298170e10f"
      },
      "source": [
        "sns.lineplot(x=\"Number Of Days\", y=\"Total Deaths\", data = df)"
      ],
      "execution_count": 307,
      "outputs": [
        {
          "output_type": "execute_result",
          "data": {
            "text/plain": [
              "<matplotlib.axes._subplots.AxesSubplot at 0x7f8e902f0b70>"
            ]
          },
          "metadata": {
            "tags": []
          },
          "execution_count": 307
        },
        {
          "output_type": "display_data",
          "data": {
            "image/png": "[encoded data removed]",
            "text/plain": [
              "<Figure size 432x288 with 1 Axes>"
            ]
          },
          "metadata": {
            "tags": [],
            "needs_background": "light"
          }
        }
      ]
    },
    {
      "cell_type": "markdown",
      "metadata": {
        "id": "0GGdNhW5SyvA",
        "colab_type": "text"
      },
      "source": [
        "**Daily Deaths by Days**"
      ]
    },
    {
      "cell_type": "code",
      "metadata": {
        "id": "BgLq0PusVqjW",
        "colab_type": "code",
        "colab": {
          "base_uri": "https://localhost:8080/",
          "height": 296
        },
        "outputId": "ceb0601a-a5db-41b6-803b-b672119135dd"
      },
      "source": [
        "sns.lineplot(x=\"Number Of Days\", y=\"Daily Deaths\", data = df)"
      ],
      "execution_count": 302,
      "outputs": [
        {
          "output_type": "execute_result",
          "data": {
            "text/plain": [
              "<matplotlib.axes._subplots.AxesSubplot at 0x7f8e9041a630>"
            ]
          },
          "metadata": {
            "tags": []
          },
          "execution_count": 302
        },
        {
          "output_type": "display_data",
          "data": {
            "image/png": "[encoded data removed]",
            "text/plain": [
              "<Figure size 432x288 with 1 Axes>"
            ]
          },
          "metadata": {
            "tags": [],
            "needs_background": "light"
          }
        }
      ]
    },
    {
      "cell_type": "markdown",
      "metadata": {
        "id": "51CbWNWgS5SC",
        "colab_type": "text"
      },
      "source": [
        "**Total Test Cases and Daily Cases by Days**"
      ]
    },
    {
      "cell_type": "code",
      "metadata": {
        "id": "MiNB2jIgW2-W",
        "colab_type": "code",
        "colab": {
          "base_uri": "https://localhost:8080/",
          "height": 298
        },
        "outputId": "4dbe45d5-43d7-422c-fbee-afb6a41f033e"
      },
      "source": [
        "plt.plot(df['Number Of Days'],df['Daily Test Cases'],color ='blue',label ='Daily Test Cases')\n",
        "plt.plot(df['Number Of Days'],df['Daily Cases'],color ='red',label='Daily Cases')\n",
        "plt.legend()\n",
        "plt.xlabel('Number Of Days')\n",
        "plt.ylabel('Value')"
      ],
      "execution_count": 303,
      "outputs": [
        {
          "output_type": "execute_result",
          "data": {
            "text/plain": [
              "Text(0, 0.5, 'Value')"
            ]
          },
          "metadata": {
            "tags": []
          },
          "execution_count": 303
        },
        {
          "output_type": "display_data",
          "data": {
            "image/png": "[encoded data removed]",
            "text/plain": [
              "<Figure size 432x288 with 1 Axes>"
            ]
          },
          "metadata": {
            "tags": [],
            "needs_background": "light"
          }
        }
      ]
    },
    {
      "cell_type": "markdown",
      "metadata": {
        "id": "wgBO6hXXTRgF",
        "colab_type": "text"
      },
      "source": [
        "**Total Cases, Daily Case, and Daily Recovered by Days**"
      ]
    },
    {
      "cell_type": "code",
      "metadata": {
        "id": "ROzaztfFYszL",
        "colab_type": "code",
        "colab": {
          "base_uri": "https://localhost:8080/",
          "height": 296
        },
        "outputId": "3102bb7c-464a-4d69-9a88-41c6901f82be"
      },
      "source": [
        "plt.plot(df['Number Of Days'],df['Daily Recovered'],color ='blue',label ='Daily Recovered')\n",
        "plt.plot(df['Number Of Days'],df['Daily Cases'],color ='red',label='Daily Cases')\n",
        "plt.plot(df['Number Of Days'],df['Total Cases'],color ='green',label ='Total Cases')\n",
        "plt.legend()\n",
        "plt.xlabel('Number Of Days')\n",
        "plt.ylabel('Value')"
      ],
      "execution_count": 305,
      "outputs": [
        {
          "output_type": "execute_result",
          "data": {
            "text/plain": [
              "Text(0, 0.5, 'Value')"
            ]
          },
          "metadata": {
            "tags": []
          },
          "execution_count": 305
        },
        {
          "output_type": "display_data",
          "data": {
            "image/png": "[encoded data removed]",
            "text/plain": [
              "<Figure size 432x288 with 1 Axes>"
            ]
          },
          "metadata": {
            "tags": [],
            "needs_background": "light"
          }
        }
      ]
    },
    {
      "cell_type": "markdown",
      "metadata": {
        "id": "V-s8D3H8Tm-u",
        "colab_type": "text"
      },
      "source": [
        "# Forecasting"
      ]
    },
    {
      "cell_type": "markdown",
      "metadata": {
        "id": "78EKNRKfTt76",
        "colab_type": "text"
      },
      "source": [
        "**Making Some New DataFrames from Dataset for Forecasting**"
      ]
    },
    {
      "cell_type": "code",
      "metadata": {
        "id": "HG1UNe4UmzZH",
        "colab_type": "code",
        "colab": {}
      },
      "source": [
        "tc=df['Total Cases']\n",
        "nod=df['Number Of Days']\n",
        "date = df[\"Date\"]\n",
        "date = date.str.replace(\"/\",\"-\")\n",
        "tc_nod = pd.DataFrame({\"Total Cases\": tc,\"Date\": date})\n",
        "td=df['Total Deaths']\n",
        "td_nod = pd.DataFrame({\"Total Deaths\": td,\"Date\": date})\n",
        "tr=df['Total Recovered']\n",
        "tr_nod = pd.DataFrame({\"Total Recovered\": tr,\"Date\": date})\n",
        "dc=df['Daily Cases']\n",
        "dc=pd.DataFrame({\"Daily Cases\": dc,\"Date\": date})"
      ],
      "execution_count": 306,
      "outputs": []
    },
    {
      "cell_type": "markdown",
      "metadata": {
        "id": "_RGHeG8iT6Y1",
        "colab_type": "text"
      },
      "source": [
        "**Total Cases Forecasting**"
      ]
    },
    {
      "cell_type": "code",
      "metadata": {
        "id": "mOv_1p9t-d2H",
        "colab_type": "code",
        "colab": {
          "base_uri": "https://localhost:8080/",
          "height": 67
        },
        "outputId": "e2091858-f2f6-4b38-a402-8203ad1a7a01"
      },
      "source": [
        "tc_nod = tc_nod.rename(columns={'Date': 'ds', 'Total Cases': 'y'})\n",
        "fbp1 = fbprophet.Prophet()\n",
        "fbp1.fit(tc_nod)"
      ],
      "execution_count": 271,
      "outputs": [
        {
          "output_type": "stream",
          "text": [
            "INFO:fbprophet:Disabling yearly seasonality. Run prophet with yearly_seasonality=True to override this.\n",
            "INFO:fbprophet:Disabling daily seasonality. Run prophet with daily_seasonality=True to override this.\n"
          ],
          "name": "stderr"
        },
        {
          "output_type": "execute_result",
          "data": {
            "text/plain": [
              "<fbprophet.forecaster.Prophet at 0x7f8e90d3ca20>"
            ]
          },
          "metadata": {
            "tags": []
          },
          "execution_count": 271
        }
      ]
    },
    {
      "cell_type": "code",
      "metadata": {
        "id": "RRUULzMuCnt0",
        "colab_type": "code",
        "colab": {
          "base_uri": "https://localhost:8080/",
          "height": 195
        },
        "outputId": "37520425-7811-4c6e-f0fd-a4ba2b15fca3"
      },
      "source": [
        "future1 = fbp1.make_future_dataframe(periods=30,freq=\"M\")\n",
        "future1.tail()"
      ],
      "execution_count": 272,
      "outputs": [
        {
          "output_type": "execute_result",
          "data": {
            "text/html": [
              "<div>\n",
              "<style scoped>\n",
              "    .dataframe tbody tr th:only-of-type {\n",
              "        vertical-align: middle;\n",
              "    }\n",
              "\n",
              "    .dataframe tbody tr th {\n",
              "        vertical-align: top;\n",
              "    }\n",
              "\n",
              "    .dataframe thead th {\n",
              "        text-align: right;\n",
              "    }\n",
              "</style>\n",
              "<table border=\"1\" class=\"dataframe\">\n",
              "  <thead>\n",
              "    <tr style=\"text-align: right;\">\n",
              "      <th></th>\n",
              "      <th>ds</th>\n",
              "    </tr>\n",
              "  </thead>\n",
              "  <tbody>\n",
              "    <tr>\n",
              "      <th>152</th>\n",
              "      <td>2022-08-31</td>\n",
              "    </tr>\n",
              "    <tr>\n",
              "      <th>153</th>\n",
              "      <td>2022-09-30</td>\n",
              "    </tr>\n",
              "    <tr>\n",
              "      <th>154</th>\n",
              "      <td>2022-10-31</td>\n",
              "    </tr>\n",
              "    <tr>\n",
              "      <th>155</th>\n",
              "      <td>2022-11-30</td>\n",
              "    </tr>\n",
              "    <tr>\n",
              "      <th>156</th>\n",
              "      <td>2022-12-31</td>\n",
              "    </tr>\n",
              "  </tbody>\n",
              "</table>\n",
              "</div>"
            ],
            "text/plain": [
              "            ds\n",
              "152 2022-08-31\n",
              "153 2022-09-30\n",
              "154 2022-10-31\n",
              "155 2022-11-30\n",
              "156 2022-12-31"
            ]
          },
          "metadata": {
            "tags": []
          },
          "execution_count": 272
        }
      ]
    },
    {
      "cell_type": "code",
      "metadata": {
        "id": "mhDXELQtCyn9",
        "colab_type": "code",
        "colab": {
          "base_uri": "https://localhost:8080/",
          "height": 195
        },
        "outputId": "6598db9a-a8b5-46ff-dcca-e0724fd4d7c5"
      },
      "source": [
        "forecast1 = fbp.predict(future1)\n",
        "forecast1[['ds', 'yhat', 'yhat_lower', 'yhat_upper']].tail()"
      ],
      "execution_count": 273,
      "outputs": [
        {
          "output_type": "execute_result",
          "data": {
            "text/html": [
              "<div>\n",
              "<style scoped>\n",
              "    .dataframe tbody tr th:only-of-type {\n",
              "        vertical-align: middle;\n",
              "    }\n",
              "\n",
              "    .dataframe tbody tr th {\n",
              "        vertical-align: top;\n",
              "    }\n",
              "\n",
              "    .dataframe thead th {\n",
              "        text-align: right;\n",
              "    }\n",
              "</style>\n",
              "<table border=\"1\" class=\"dataframe\">\n",
              "  <thead>\n",
              "    <tr style=\"text-align: right;\">\n",
              "      <th></th>\n",
              "      <th>ds</th>\n",
              "      <th>yhat</th>\n",
              "      <th>yhat_lower</th>\n",
              "      <th>yhat_upper</th>\n",
              "    </tr>\n",
              "  </thead>\n",
              "  <tbody>\n",
              "    <tr>\n",
              "      <th>152</th>\n",
              "      <td>2022-08-31</td>\n",
              "      <td>1.154144e+06</td>\n",
              "      <td>-2.525314e+06</td>\n",
              "      <td>4.836726e+06</td>\n",
              "    </tr>\n",
              "    <tr>\n",
              "      <th>153</th>\n",
              "      <td>2022-09-30</td>\n",
              "      <td>1.190459e+06</td>\n",
              "      <td>-2.700569e+06</td>\n",
              "      <td>5.046211e+06</td>\n",
              "    </tr>\n",
              "    <tr>\n",
              "      <th>154</th>\n",
              "      <td>2022-10-31</td>\n",
              "      <td>1.227637e+06</td>\n",
              "      <td>-2.919929e+06</td>\n",
              "      <td>5.292386e+06</td>\n",
              "    </tr>\n",
              "    <tr>\n",
              "      <th>155</th>\n",
              "      <td>2022-11-30</td>\n",
              "      <td>1.263833e+06</td>\n",
              "      <td>-3.144067e+06</td>\n",
              "      <td>5.582620e+06</td>\n",
              "    </tr>\n",
              "    <tr>\n",
              "      <th>156</th>\n",
              "      <td>2022-12-31</td>\n",
              "      <td>1.301385e+06</td>\n",
              "      <td>-3.394606e+06</td>\n",
              "      <td>5.921491e+06</td>\n",
              "    </tr>\n",
              "  </tbody>\n",
              "</table>\n",
              "</div>"
            ],
            "text/plain": [
              "            ds          yhat    yhat_lower    yhat_upper\n",
              "152 2022-08-31  1.154144e+06 -2.525314e+06  4.836726e+06\n",
              "153 2022-09-30  1.190459e+06 -2.700569e+06  5.046211e+06\n",
              "154 2022-10-31  1.227637e+06 -2.919929e+06  5.292386e+06\n",
              "155 2022-11-30  1.263833e+06 -3.144067e+06  5.582620e+06\n",
              "156 2022-12-31  1.301385e+06 -3.394606e+06  5.921491e+06"
            ]
          },
          "metadata": {
            "tags": []
          },
          "execution_count": 273
        }
      ]
    },
    {
      "cell_type": "code",
      "metadata": {
        "id": "LV-UYz0FC9vc",
        "colab_type": "code",
        "colab": {
          "base_uri": "https://localhost:8080/",
          "height": 430
        },
        "outputId": "77ffa3e4-472f-4425-adb8-f14b070b49e9"
      },
      "source": [
        "fig1 = fbp.plot(forecast)\n",
        "plt.xlabel('Days')\n",
        "plt.ylabel('Total Cases')\n",
        "plt.ticklabel_format(style='plain', axis='y')"
      ],
      "execution_count": 274,
      "outputs": [
        {
          "output_type": "display_data",
          "data": {
            "image/png": "[encoded data removed]",
            "text/plain": [
              "<Figure size 720x432 with 1 Axes>"
            ]
          },
          "metadata": {
            "tags": []
          }
        }
      ]
    },
    {
      "cell_type": "markdown",
      "metadata": {
        "id": "KowNlbf1UBTx",
        "colab_type": "text"
      },
      "source": [
        "**Total Deaths Forecasting**"
      ]
    },
    {
      "cell_type": "code",
      "metadata": {
        "id": "L-XpctlTDvOo",
        "colab_type": "code",
        "colab": {
          "base_uri": "https://localhost:8080/",
          "height": 67
        },
        "outputId": "5d0753be-76a8-4079-edbb-10085c05710b"
      },
      "source": [
        "td_nod = td_nod.rename(columns={'Date': 'ds', 'Total Deaths': 'y'})\n",
        "fbp2 = fbprophet.Prophet()\n",
        "fbp2.fit(td_nod)"
      ],
      "execution_count": 275,
      "outputs": [
        {
          "output_type": "stream",
          "text": [
            "INFO:fbprophet:Disabling yearly seasonality. Run prophet with yearly_seasonality=True to override this.\n",
            "INFO:fbprophet:Disabling daily seasonality. Run prophet with daily_seasonality=True to override this.\n"
          ],
          "name": "stderr"
        },
        {
          "output_type": "execute_result",
          "data": {
            "text/plain": [
              "<fbprophet.forecaster.Prophet at 0x7f8e90c72b70>"
            ]
          },
          "metadata": {
            "tags": []
          },
          "execution_count": 275
        }
      ]
    },
    {
      "cell_type": "code",
      "metadata": {
        "id": "zP6ysgsTD6Lc",
        "colab_type": "code",
        "colab": {
          "base_uri": "https://localhost:8080/",
          "height": 195
        },
        "outputId": "3dbf135a-b579-40aa-ea24-4e7bd5c7d3b6"
      },
      "source": [
        "future2 = fbp2.make_future_dataframe(periods=30,freq=\"M\")\n",
        "future2.tail()"
      ],
      "execution_count": 276,
      "outputs": [
        {
          "output_type": "execute_result",
          "data": {
            "text/html": [
              "<div>\n",
              "<style scoped>\n",
              "    .dataframe tbody tr th:only-of-type {\n",
              "        vertical-align: middle;\n",
              "    }\n",
              "\n",
              "    .dataframe tbody tr th {\n",
              "        vertical-align: top;\n",
              "    }\n",
              "\n",
              "    .dataframe thead th {\n",
              "        text-align: right;\n",
              "    }\n",
              "</style>\n",
              "<table border=\"1\" class=\"dataframe\">\n",
              "  <thead>\n",
              "    <tr style=\"text-align: right;\">\n",
              "      <th></th>\n",
              "      <th>ds</th>\n",
              "    </tr>\n",
              "  </thead>\n",
              "  <tbody>\n",
              "    <tr>\n",
              "      <th>152</th>\n",
              "      <td>2022-08-31</td>\n",
              "    </tr>\n",
              "    <tr>\n",
              "      <th>153</th>\n",
              "      <td>2022-09-30</td>\n",
              "    </tr>\n",
              "    <tr>\n",
              "      <th>154</th>\n",
              "      <td>2022-10-31</td>\n",
              "    </tr>\n",
              "    <tr>\n",
              "      <th>155</th>\n",
              "      <td>2022-11-30</td>\n",
              "    </tr>\n",
              "    <tr>\n",
              "      <th>156</th>\n",
              "      <td>2022-12-31</td>\n",
              "    </tr>\n",
              "  </tbody>\n",
              "</table>\n",
              "</div>"
            ],
            "text/plain": [
              "            ds\n",
              "152 2022-08-31\n",
              "153 2022-09-30\n",
              "154 2022-10-31\n",
              "155 2022-11-30\n",
              "156 2022-12-31"
            ]
          },
          "metadata": {
            "tags": []
          },
          "execution_count": 276
        }
      ]
    },
    {
      "cell_type": "code",
      "metadata": {
        "id": "zvfJEEruEBX_",
        "colab_type": "code",
        "colab": {
          "base_uri": "https://localhost:8080/",
          "height": 195
        },
        "outputId": "f105bcd8-4885-4edc-a80f-96a9251df6a5"
      },
      "source": [
        "forecast2 = fbp2.predict(future2)\n",
        "forecast2[['ds', 'yhat', 'yhat_lower', 'yhat_upper']].tail()"
      ],
      "execution_count": 277,
      "outputs": [
        {
          "output_type": "execute_result",
          "data": {
            "text/html": [
              "<div>\n",
              "<style scoped>\n",
              "    .dataframe tbody tr th:only-of-type {\n",
              "        vertical-align: middle;\n",
              "    }\n",
              "\n",
              "    .dataframe tbody tr th {\n",
              "        vertical-align: top;\n",
              "    }\n",
              "\n",
              "    .dataframe thead th {\n",
              "        text-align: right;\n",
              "    }\n",
              "</style>\n",
              "<table border=\"1\" class=\"dataframe\">\n",
              "  <thead>\n",
              "    <tr style=\"text-align: right;\">\n",
              "      <th></th>\n",
              "      <th>ds</th>\n",
              "      <th>yhat</th>\n",
              "      <th>yhat_lower</th>\n",
              "      <th>yhat_upper</th>\n",
              "    </tr>\n",
              "  </thead>\n",
              "  <tbody>\n",
              "    <tr>\n",
              "      <th>152</th>\n",
              "      <td>2022-08-31</td>\n",
              "      <td>20529.638000</td>\n",
              "      <td>-92457.497302</td>\n",
              "      <td>127317.044415</td>\n",
              "    </tr>\n",
              "    <tr>\n",
              "      <th>153</th>\n",
              "      <td>2022-09-30</td>\n",
              "      <td>21114.584207</td>\n",
              "      <td>-96912.132539</td>\n",
              "      <td>134720.080526</td>\n",
              "    </tr>\n",
              "    <tr>\n",
              "      <th>154</th>\n",
              "      <td>2022-10-31</td>\n",
              "      <td>21714.858128</td>\n",
              "      <td>-101485.971932</td>\n",
              "      <td>141524.238713</td>\n",
              "    </tr>\n",
              "    <tr>\n",
              "      <th>155</th>\n",
              "      <td>2022-11-30</td>\n",
              "      <td>22299.144179</td>\n",
              "      <td>-107122.201487</td>\n",
              "      <td>148564.696992</td>\n",
              "    </tr>\n",
              "    <tr>\n",
              "      <th>156</th>\n",
              "      <td>2022-12-31</td>\n",
              "      <td>22902.670195</td>\n",
              "      <td>-112019.518486</td>\n",
              "      <td>155664.012300</td>\n",
              "    </tr>\n",
              "  </tbody>\n",
              "</table>\n",
              "</div>"
            ],
            "text/plain": [
              "            ds          yhat     yhat_lower     yhat_upper\n",
              "152 2022-08-31  20529.638000  -92457.497302  127317.044415\n",
              "153 2022-09-30  21114.584207  -96912.132539  134720.080526\n",
              "154 2022-10-31  21714.858128 -101485.971932  141524.238713\n",
              "155 2022-11-30  22299.144179 -107122.201487  148564.696992\n",
              "156 2022-12-31  22902.670195 -112019.518486  155664.012300"
            ]
          },
          "metadata": {
            "tags": []
          },
          "execution_count": 277
        }
      ]
    },
    {
      "cell_type": "code",
      "metadata": {
        "id": "dPZQF4vzEF-h",
        "colab_type": "code",
        "colab": {
          "base_uri": "https://localhost:8080/",
          "height": 441
        },
        "outputId": "dc668bfb-47fd-4df8-ee0f-dc873c723e52"
      },
      "source": [
        "fig2 = fbp2.plot(forecast2)\n",
        "plt.xlabel('Date')\n",
        "plt.ylabel('Total Deaths')\n",
        "plt.ticklabel_format(style='plain', axis='y')"
      ],
      "execution_count": 283,
      "outputs": [
        {
          "output_type": "display_data",
          "data": {
            "image/png": "[encoded data removed]",
            "text/plain": [
              "<Figure size 720x432 with 1 Axes>"
            ]
          },
          "metadata": {
            "tags": []
          }
        }
      ]
    },
    {
      "cell_type": "markdown",
      "metadata": {
        "id": "kzupaROnUHYK",
        "colab_type": "text"
      },
      "source": [
        "**Total Recovered Forecasting**"
      ]
    },
    {
      "cell_type": "code",
      "metadata": {
        "id": "LQFcM6kpEK3S",
        "colab_type": "code",
        "colab": {
          "base_uri": "https://localhost:8080/",
          "height": 67
        },
        "outputId": "ec003d3b-6c65-41d2-f6e3-4259db4a725b"
      },
      "source": [
        "tr_nod = tr_nod.rename(columns={'Date': 'ds', 'Total Recovered': 'y'})\n",
        "fbp3 = fbprophet.Prophet()\n",
        "fbp3.fit(tr_nod)"
      ],
      "execution_count": 280,
      "outputs": [
        {
          "output_type": "stream",
          "text": [
            "INFO:fbprophet:Disabling yearly seasonality. Run prophet with yearly_seasonality=True to override this.\n",
            "INFO:fbprophet:Disabling daily seasonality. Run prophet with daily_seasonality=True to override this.\n"
          ],
          "name": "stderr"
        },
        {
          "output_type": "execute_result",
          "data": {
            "text/plain": [
              "<fbprophet.forecaster.Prophet at 0x7f8e915723c8>"
            ]
          },
          "metadata": {
            "tags": []
          },
          "execution_count": 280
        }
      ]
    },
    {
      "cell_type": "code",
      "metadata": {
        "id": "5Sk8UFyREYcm",
        "colab_type": "code",
        "colab": {
          "base_uri": "https://localhost:8080/",
          "height": 195
        },
        "outputId": "fa254c0c-ceff-445a-a63c-5c72b6c43351"
      },
      "source": [
        "future3 = fbp3.make_future_dataframe(periods=30,freq=\"M\")\n",
        "future3.tail()"
      ],
      "execution_count": 281,
      "outputs": [
        {
          "output_type": "execute_result",
          "data": {
            "text/html": [
              "<div>\n",
              "<style scoped>\n",
              "    .dataframe tbody tr th:only-of-type {\n",
              "        vertical-align: middle;\n",
              "    }\n",
              "\n",
              "    .dataframe tbody tr th {\n",
              "        vertical-align: top;\n",
              "    }\n",
              "\n",
              "    .dataframe thead th {\n",
              "        text-align: right;\n",
              "    }\n",
              "</style>\n",
              "<table border=\"1\" class=\"dataframe\">\n",
              "  <thead>\n",
              "    <tr style=\"text-align: right;\">\n",
              "      <th></th>\n",
              "      <th>ds</th>\n",
              "    </tr>\n",
              "  </thead>\n",
              "  <tbody>\n",
              "    <tr>\n",
              "      <th>152</th>\n",
              "      <td>2022-08-31</td>\n",
              "    </tr>\n",
              "    <tr>\n",
              "      <th>153</th>\n",
              "      <td>2022-09-30</td>\n",
              "    </tr>\n",
              "    <tr>\n",
              "      <th>154</th>\n",
              "      <td>2022-10-31</td>\n",
              "    </tr>\n",
              "    <tr>\n",
              "      <th>155</th>\n",
              "      <td>2022-11-30</td>\n",
              "    </tr>\n",
              "    <tr>\n",
              "      <th>156</th>\n",
              "      <td>2022-12-31</td>\n",
              "    </tr>\n",
              "  </tbody>\n",
              "</table>\n",
              "</div>"
            ],
            "text/plain": [
              "            ds\n",
              "152 2022-08-31\n",
              "153 2022-09-30\n",
              "154 2022-10-31\n",
              "155 2022-11-30\n",
              "156 2022-12-31"
            ]
          },
          "metadata": {
            "tags": []
          },
          "execution_count": 281
        }
      ]
    },
    {
      "cell_type": "code",
      "metadata": {
        "id": "vdjwM6MaEa3O",
        "colab_type": "code",
        "colab": {
          "base_uri": "https://localhost:8080/",
          "height": 195
        },
        "outputId": "f8a027a9-8ca9-4947-b4e5-3645d745b587"
      },
      "source": [
        "forecast3 = fbp3.predict(future)\n",
        "forecast3[['ds', 'yhat', 'yhat_lower', 'yhat_upper']].tail()"
      ],
      "execution_count": 282,
      "outputs": [
        {
          "output_type": "execute_result",
          "data": {
            "text/html": [
              "<div>\n",
              "<style scoped>\n",
              "    .dataframe tbody tr th:only-of-type {\n",
              "        vertical-align: middle;\n",
              "    }\n",
              "\n",
              "    .dataframe tbody tr th {\n",
              "        vertical-align: top;\n",
              "    }\n",
              "\n",
              "    .dataframe thead th {\n",
              "        text-align: right;\n",
              "    }\n",
              "</style>\n",
              "<table border=\"1\" class=\"dataframe\">\n",
              "  <thead>\n",
              "    <tr style=\"text-align: right;\">\n",
              "      <th></th>\n",
              "      <th>ds</th>\n",
              "      <th>yhat</th>\n",
              "      <th>yhat_lower</th>\n",
              "      <th>yhat_upper</th>\n",
              "    </tr>\n",
              "  </thead>\n",
              "  <tbody>\n",
              "    <tr>\n",
              "      <th>152</th>\n",
              "      <td>2022-08-31</td>\n",
              "      <td>1.445101e+06</td>\n",
              "      <td>-2.949104e+06</td>\n",
              "      <td>5.898846e+06</td>\n",
              "    </tr>\n",
              "    <tr>\n",
              "      <th>153</th>\n",
              "      <td>2022-09-30</td>\n",
              "      <td>1.493332e+06</td>\n",
              "      <td>-3.221077e+06</td>\n",
              "      <td>6.239675e+06</td>\n",
              "    </tr>\n",
              "    <tr>\n",
              "      <th>154</th>\n",
              "      <td>2022-10-31</td>\n",
              "      <td>1.542891e+06</td>\n",
              "      <td>-3.458359e+06</td>\n",
              "      <td>6.519416e+06</td>\n",
              "    </tr>\n",
              "    <tr>\n",
              "      <th>155</th>\n",
              "      <td>2022-11-30</td>\n",
              "      <td>1.591118e+06</td>\n",
              "      <td>-3.641508e+06</td>\n",
              "      <td>6.807501e+06</td>\n",
              "    </tr>\n",
              "    <tr>\n",
              "      <th>156</th>\n",
              "      <td>2022-12-31</td>\n",
              "      <td>1.640856e+06</td>\n",
              "      <td>-3.799573e+06</td>\n",
              "      <td>7.137386e+06</td>\n",
              "    </tr>\n",
              "  </tbody>\n",
              "</table>\n",
              "</div>"
            ],
            "text/plain": [
              "            ds          yhat    yhat_lower    yhat_upper\n",
              "152 2022-08-31  1.445101e+06 -2.949104e+06  5.898846e+06\n",
              "153 2022-09-30  1.493332e+06 -3.221077e+06  6.239675e+06\n",
              "154 2022-10-31  1.542891e+06 -3.458359e+06  6.519416e+06\n",
              "155 2022-11-30  1.591118e+06 -3.641508e+06  6.807501e+06\n",
              "156 2022-12-31  1.640856e+06 -3.799573e+06  7.137386e+06"
            ]
          },
          "metadata": {
            "tags": []
          },
          "execution_count": 282
        }
      ]
    },
    {
      "cell_type": "code",
      "metadata": {
        "id": "wri66UegEdXF",
        "colab_type": "code",
        "colab": {
          "base_uri": "https://localhost:8080/",
          "height": 430
        },
        "outputId": "fc5876b3-b367-4d2e-c830-a13d4b22a898"
      },
      "source": [
        "fig3 = fbp3.plot(forecast3)\n",
        "plt.xlabel('Days')\n",
        "plt.ylabel('Total Recovered')\n",
        "plt.ticklabel_format(style='plain', axis='y')"
      ],
      "execution_count": 284,
      "outputs": [
        {
          "output_type": "display_data",
          "data": {
            "image/png": "[encoded data removed]",
            "text/plain": [
              "<Figure size 720x432 with 1 Axes>"
            ]
          },
          "metadata": {
            "tags": []
          }
        }
      ]
    },
    {
      "cell_type": "markdown",
      "metadata": {
        "id": "T5vnMAf9UMQ3",
        "colab_type": "text"
      },
      "source": [
        "**Daily Cases Forecasting**"
      ]
    },
    {
      "cell_type": "code",
      "metadata": {
        "id": "vfl20F4QEgUg",
        "colab_type": "code",
        "colab": {
          "base_uri": "https://localhost:8080/",
          "height": 67
        },
        "outputId": "bca3e675-3df7-494d-f44b-6511eae0e896"
      },
      "source": [
        "dc = dc.rename(columns={'Date': 'ds', 'Daily Cases': 'y'})\n",
        "fbp4 = fbprophet.Prophet()\n",
        "fbp4.fit(dc)"
      ],
      "execution_count": 285,
      "outputs": [
        {
          "output_type": "stream",
          "text": [
            "INFO:fbprophet:Disabling yearly seasonality. Run prophet with yearly_seasonality=True to override this.\n",
            "INFO:fbprophet:Disabling daily seasonality. Run prophet with daily_seasonality=True to override this.\n"
          ],
          "name": "stderr"
        },
        {
          "output_type": "execute_result",
          "data": {
            "text/plain": [
              "<fbprophet.forecaster.Prophet at 0x7f8e9145e978>"
            ]
          },
          "metadata": {
            "tags": []
          },
          "execution_count": 285
        }
      ]
    },
    {
      "cell_type": "code",
      "metadata": {
        "id": "8u9D2MVZGiWw",
        "colab_type": "code",
        "colab": {
          "base_uri": "https://localhost:8080/",
          "height": 195
        },
        "outputId": "0f098217-0084-484c-fd59-68202257f316"
      },
      "source": [
        "future4 = fbp4.make_future_dataframe(periods=100,freq=\"D\")\n",
        "future4.tail()"
      ],
      "execution_count": 286,
      "outputs": [
        {
          "output_type": "execute_result",
          "data": {
            "text/html": [
              "<div>\n",
              "<style scoped>\n",
              "    .dataframe tbody tr th:only-of-type {\n",
              "        vertical-align: middle;\n",
              "    }\n",
              "\n",
              "    .dataframe tbody tr th {\n",
              "        vertical-align: top;\n",
              "    }\n",
              "\n",
              "    .dataframe thead th {\n",
              "        text-align: right;\n",
              "    }\n",
              "</style>\n",
              "<table border=\"1\" class=\"dataframe\">\n",
              "  <thead>\n",
              "    <tr style=\"text-align: right;\">\n",
              "      <th></th>\n",
              "      <th>ds</th>\n",
              "    </tr>\n",
              "  </thead>\n",
              "  <tbody>\n",
              "    <tr>\n",
              "      <th>222</th>\n",
              "      <td>2020-10-19</td>\n",
              "    </tr>\n",
              "    <tr>\n",
              "      <th>223</th>\n",
              "      <td>2020-10-20</td>\n",
              "    </tr>\n",
              "    <tr>\n",
              "      <th>224</th>\n",
              "      <td>2020-10-21</td>\n",
              "    </tr>\n",
              "    <tr>\n",
              "      <th>225</th>\n",
              "      <td>2020-10-22</td>\n",
              "    </tr>\n",
              "    <tr>\n",
              "      <th>226</th>\n",
              "      <td>2020-10-23</td>\n",
              "    </tr>\n",
              "  </tbody>\n",
              "</table>\n",
              "</div>"
            ],
            "text/plain": [
              "            ds\n",
              "222 2020-10-19\n",
              "223 2020-10-20\n",
              "224 2020-10-21\n",
              "225 2020-10-22\n",
              "226 2020-10-23"
            ]
          },
          "metadata": {
            "tags": []
          },
          "execution_count": 286
        }
      ]
    },
    {
      "cell_type": "code",
      "metadata": {
        "id": "w3kQmNuZGk_o",
        "colab_type": "code",
        "colab": {
          "base_uri": "https://localhost:8080/",
          "height": 195
        },
        "outputId": "2a61ce99-ca63-45cd-cea2-8100d5075978"
      },
      "source": [
        "forecast4 = fbp4.predict(future4)\n",
        "forecast4[['ds', 'yhat', 'yhat_lower', 'yhat_upper']].tail()"
      ],
      "execution_count": 287,
      "outputs": [
        {
          "output_type": "execute_result",
          "data": {
            "text/html": [
              "<div>\n",
              "<style scoped>\n",
              "    .dataframe tbody tr th:only-of-type {\n",
              "        vertical-align: middle;\n",
              "    }\n",
              "\n",
              "    .dataframe tbody tr th {\n",
              "        vertical-align: top;\n",
              "    }\n",
              "\n",
              "    .dataframe thead th {\n",
              "        text-align: right;\n",
              "    }\n",
              "</style>\n",
              "<table border=\"1\" class=\"dataframe\">\n",
              "  <thead>\n",
              "    <tr style=\"text-align: right;\">\n",
              "      <th></th>\n",
              "      <th>ds</th>\n",
              "      <th>yhat</th>\n",
              "      <th>yhat_lower</th>\n",
              "      <th>yhat_upper</th>\n",
              "    </tr>\n",
              "  </thead>\n",
              "  <tbody>\n",
              "    <tr>\n",
              "      <th>222</th>\n",
              "      <td>2020-10-19</td>\n",
              "      <td>-219.343663</td>\n",
              "      <td>-1592.429746</td>\n",
              "      <td>1194.283754</td>\n",
              "    </tr>\n",
              "    <tr>\n",
              "      <th>223</th>\n",
              "      <td>2020-10-20</td>\n",
              "      <td>-88.111392</td>\n",
              "      <td>-1513.515826</td>\n",
              "      <td>1337.656707</td>\n",
              "    </tr>\n",
              "    <tr>\n",
              "      <th>224</th>\n",
              "      <td>2020-10-21</td>\n",
              "      <td>-214.439340</td>\n",
              "      <td>-1678.626639</td>\n",
              "      <td>1284.219549</td>\n",
              "    </tr>\n",
              "    <tr>\n",
              "      <th>225</th>\n",
              "      <td>2020-10-22</td>\n",
              "      <td>-159.790857</td>\n",
              "      <td>-1598.614587</td>\n",
              "      <td>1351.498366</td>\n",
              "    </tr>\n",
              "    <tr>\n",
              "      <th>226</th>\n",
              "      <td>2020-10-23</td>\n",
              "      <td>-99.881812</td>\n",
              "      <td>-1498.801063</td>\n",
              "      <td>1349.110494</td>\n",
              "    </tr>\n",
              "  </tbody>\n",
              "</table>\n",
              "</div>"
            ],
            "text/plain": [
              "            ds        yhat   yhat_lower   yhat_upper\n",
              "222 2020-10-19 -219.343663 -1592.429746  1194.283754\n",
              "223 2020-10-20  -88.111392 -1513.515826  1337.656707\n",
              "224 2020-10-21 -214.439340 -1678.626639  1284.219549\n",
              "225 2020-10-22 -159.790857 -1598.614587  1351.498366\n",
              "226 2020-10-23  -99.881812 -1498.801063  1349.110494"
            ]
          },
          "metadata": {
            "tags": []
          },
          "execution_count": 287
        }
      ]
    },
    {
      "cell_type": "code",
      "metadata": {
        "id": "mrD2XleLGm38",
        "colab_type": "code",
        "colab": {
          "base_uri": "https://localhost:8080/",
          "height": 458
        },
        "outputId": "0f90118e-5eb5-4fd4-983d-5467a0427b8b"
      },
      "source": [
        "fig4 = fbp4.plot(forecast4)\n",
        "plt.xlabel('Days')\n",
        "plt.ylabel('Daily Cases')"
      ],
      "execution_count": 309,
      "outputs": [
        {
          "output_type": "execute_result",
          "data": {
            "text/plain": [
              "Text(45.5, 0.5, 'Daily Cases')"
            ]
          },
          "metadata": {
            "tags": []
          },
          "execution_count": 309
        },
        {
          "output_type": "display_data",
          "data": {
            "image/png": "[encoded data removed]",
            "text/plain": [
              "<Figure size 720x432 with 1 Axes>"
            ]
          },
          "metadata": {
            "tags": []
          }
        }
      ]
    },
    {
      "cell_type": "code",
      "metadata": {
        "id": "U0MekUb1WSCG",
        "colab_type": "code",
        "colab": {}
      },
      "source": [
        ""
      ],
      "execution_count": null,
      "outputs": []
    }
  ]
}